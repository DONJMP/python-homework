{
 "cells": [
  {
   "cell_type": "code",
   "execution_count": 1,
   "id": "495b21b4-8e79-4d68-9500-2a662e45ba62",
   "metadata": {
    "tags": []
   },
   "outputs": [],
   "source": [
    "#import csv file\n",
    "import csv\n",
    "from pathlib import Path"
   ]
  },
  {
   "cell_type": "code",
   "execution_count": 2,
   "id": "f0434dd3-e550-4c0d-a020-276ec1a7027f",
   "metadata": {
    "tags": []
   },
   "outputs": [],
   "source": [
    "# Set file paths\n",
    "budget_filepath = Path('budget_data.csv')\n",
    "output_file = Path('analysis/budget_analysis.txt')"
   ]
  },
  {
   "cell_type": "code",
   "execution_count": 3,
   "id": "3ee4145b-1791-41ff-b004-f74a2675450d",
   "metadata": {
    "tags": []
   },
   "outputs": [],
   "source": [
    "# Track various financial parameters\n",
    "total_months = 0\n",
    "month_of_change = []\n",
    "net_change_list = []\n",
    "greatest_increase = [\"\", 0]\n",
    "greatest_decrease = [\"\", 9999999999999999999]\n",
    "total_net = 0"
   ]
  },
  {
   "cell_type": "code",
   "execution_count": 4,
   "id": "d94bba00-8b23-46a4-80f6-8e5a3bbf0108",
   "metadata": {
    "tags": []
   },
   "outputs": [],
   "source": [
    "with open(budget_filepath) as budget:\n",
    "    reader = csv.reader(budget)\n",
    "    \n",
    "    header = next(reader)\n",
    "    # Extract first row to avoid appending to net_change_list\n",
    "    first_row = next(reader)\n",
    "    total_months = total_months + 1\n",
    "    total_net = total_net + int(first_row[1])\n",
    "    prev_net = int(first_row[1])\n",
    "\n",
    "    for row in reader:\n",
    "        # Track the total\n",
    "        total_months = total_months + 1\n",
    "        total_net = total_net + int(row[1])\n",
    "        # Track the net change\n",
    "        net_change = int(row[1]) - prev_net\n",
    "        prev_net = int(row[1])\n",
    "        net_change_list = net_change_list + [net_change]\n",
    "        month_of_change = month_of_change + [row[0]]\n",
    "        # Calculate the greatest increase\n",
    "        if net_change > greatest_increase[1]:\n",
    "            greatest_increase[0] = row[0]\n",
    "            greatest_increase[1] = net_change\n",
    "            # Calculate the greatest decrease\n",
    "        if net_change < greatest_decrease[1]:\n",
    "            greatest_decrease[0] = row[0]\n",
    "            greatest_decrease[1] = net_change"
   ]
  },
  {
   "cell_type": "code",
   "execution_count": 5,
   "id": "bcb76b7d-3ebc-48ad-a152-990af2e3efff",
   "metadata": {
    "tags": []
   },
   "outputs": [],
   "source": [
    "# Calculate the Average Net Change\n",
    "net_monthly_avg = round(sum(net_change_list) / len(net_change_list),2)"
   ]
  },
  {
   "cell_type": "code",
   "execution_count": 6,
   "id": "6d93b83a-3129-4f69-9649-a87ab45b06dd",
   "metadata": {
    "tags": []
   },
   "outputs": [],
   "source": [
    "# Export the results to text file\n",
    "with open(output_file, \"w\") as txt_file:\n",
    "    txt_file.write(f\"Financial Analysis\\n\")\n",
    "    txt_file.write(f\"----------------------------\\n\")\n",
    "    txt_file.write(f\"Total Months: {total_months}\\n\")\n",
    "    txt_file.write(f\"Total: ${total_net}\\n\")\n",
    "    txt_file.write(f\"Average  Change: ${net_monthly_avg}\\n\")\n",
    "    txt_file.write(f\"Greatest Increase in Profits: {greatest_increase[0]} (${greatest_increase[1]})\\n\")\n",
    "    txt_file.write(f\"Greatest Decrease in Profits: {greatest_decrease[0]} (${greatest_decrease[1]})\\n\")"
   ]
  },
  {
   "cell_type": "code",
   "execution_count": null,
   "id": "b923a3f4-c397-4834-a0f2-80767df41e8e",
   "metadata": {},
   "outputs": [],
   "source": []
  }
 ],
 "metadata": {
  "kernelspec": {
   "display_name": "Python 3 (ipykernel)",
   "language": "python",
   "name": "python3"
  },
  "language_info": {
   "codemirror_mode": {
    "name": "ipython",
    "version": 3
   },
   "file_extension": ".py",
   "mimetype": "text/x-python",
   "name": "python",
   "nbconvert_exporter": "python",
   "pygments_lexer": "ipython3",
   "version": "3.11.4"
  }
 },
 "nbformat": 4,
 "nbformat_minor": 5
}
